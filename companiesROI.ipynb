{
 "cells": [
  {
   "cell_type": "code",
   "execution_count": 8,
   "id": "2bfb1ace",
   "metadata": {},
   "outputs": [],
   "source": [
    "import pandas as pd\n",
    "\n"
   ]
  },
  {
   "cell_type": "markdown",
   "id": "db9cc5ee",
   "metadata": {},
   "source": [
    "###### Load the dataset from an Excel file\n",
    "\n"
   ]
  },
  {
   "cell_type": "code",
   "execution_count": 16,
   "id": "2664cbc4",
   "metadata": {},
   "outputs": [
    {
     "data": {
      "text/html": [
       "<div>\n",
       "<style scoped>\n",
       "    .dataframe tbody tr th:only-of-type {\n",
       "        vertical-align: middle;\n",
       "    }\n",
       "\n",
       "    .dataframe tbody tr th {\n",
       "        vertical-align: top;\n",
       "    }\n",
       "\n",
       "    .dataframe thead th {\n",
       "        text-align: right;\n",
       "    }\n",
       "</style>\n",
       "<table border=\"1\" class=\"dataframe\">\n",
       "  <thead>\n",
       "    <tr style=\"text-align: right;\">\n",
       "      <th></th>\n",
       "      <th>Campaign</th>\n",
       "      <th>Spent</th>\n",
       "      <th>Revenue</th>\n",
       "    </tr>\n",
       "  </thead>\n",
       "  <tbody>\n",
       "    <tr>\n",
       "      <th>0</th>\n",
       "      <td>Summer Sale</td>\n",
       "      <td>5000</td>\n",
       "      <td>12500</td>\n",
       "    </tr>\n",
       "    <tr>\n",
       "      <th>1</th>\n",
       "      <td>Holiday Promotion</td>\n",
       "      <td>7500</td>\n",
       "      <td>18750</td>\n",
       "    </tr>\n",
       "    <tr>\n",
       "      <th>2</th>\n",
       "      <td>Back-to-School Campaign</td>\n",
       "      <td>6000</td>\n",
       "      <td>14000</td>\n",
       "    </tr>\n",
       "    <tr>\n",
       "      <th>3</th>\n",
       "      <td>Spring Clearance</td>\n",
       "      <td>4000</td>\n",
       "      <td>10000</td>\n",
       "    </tr>\n",
       "    <tr>\n",
       "      <th>4</th>\n",
       "      <td>Black Friday Deals</td>\n",
       "      <td>10000</td>\n",
       "      <td>22500</td>\n",
       "    </tr>\n",
       "    <tr>\n",
       "      <th>5</th>\n",
       "      <td>New Year's Special</td>\n",
       "      <td>9000</td>\n",
       "      <td>20000</td>\n",
       "    </tr>\n",
       "    <tr>\n",
       "      <th>6</th>\n",
       "      <td>Valentine's Day Sale</td>\n",
       "      <td>4500</td>\n",
       "      <td>11000</td>\n",
       "    </tr>\n",
       "    <tr>\n",
       "      <th>7</th>\n",
       "      <td>Mother's Day Promotion</td>\n",
       "      <td>5500</td>\n",
       "      <td>13750</td>\n",
       "    </tr>\n",
       "    <tr>\n",
       "      <th>8</th>\n",
       "      <td>Easter Discounts</td>\n",
       "      <td>6500</td>\n",
       "      <td>16000</td>\n",
       "    </tr>\n",
       "    <tr>\n",
       "      <th>9</th>\n",
       "      <td>Cyber Monday Offers</td>\n",
       "      <td>8500</td>\n",
       "      <td>19000</td>\n",
       "    </tr>\n",
       "    <tr>\n",
       "      <th>10</th>\n",
       "      <td>Christmas Bonanza</td>\n",
       "      <td>11000</td>\n",
       "      <td>25000</td>\n",
       "    </tr>\n",
       "    <tr>\n",
       "      <th>11</th>\n",
       "      <td>Halloween Sale</td>\n",
       "      <td>7000</td>\n",
       "      <td>18000</td>\n",
       "    </tr>\n",
       "    <tr>\n",
       "      <th>12</th>\n",
       "      <td>Independence Day Deals</td>\n",
       "      <td>8000</td>\n",
       "      <td>19500</td>\n",
       "    </tr>\n",
       "    <tr>\n",
       "      <th>13</th>\n",
       "      <td>Labor Day Offers</td>\n",
       "      <td>6000</td>\n",
       "      <td>15500</td>\n",
       "    </tr>\n",
       "    <tr>\n",
       "      <th>14</th>\n",
       "      <td>Memorial Day Special</td>\n",
       "      <td>5000</td>\n",
       "      <td>13000</td>\n",
       "    </tr>\n",
       "    <tr>\n",
       "      <th>15</th>\n",
       "      <td>End of Year Clearance</td>\n",
       "      <td>9500</td>\n",
       "      <td>21500</td>\n",
       "    </tr>\n",
       "    <tr>\n",
       "      <th>16</th>\n",
       "      <td>Summer Fashion Sale</td>\n",
       "      <td>7500</td>\n",
       "      <td>19000</td>\n",
       "    </tr>\n",
       "    <tr>\n",
       "      <th>17</th>\n",
       "      <td>Winter Wonderland Deals</td>\n",
       "      <td>8500</td>\n",
       "      <td>22000</td>\n",
       "    </tr>\n",
       "    <tr>\n",
       "      <th>18</th>\n",
       "      <td>Spring Break Promotion</td>\n",
       "      <td>6000</td>\n",
       "      <td>16500</td>\n",
       "    </tr>\n",
       "    <tr>\n",
       "      <th>19</th>\n",
       "      <td>International Women's Day Sale</td>\n",
       "      <td>4500</td>\n",
       "      <td>12000</td>\n",
       "    </tr>\n",
       "  </tbody>\n",
       "</table>\n",
       "</div>"
      ],
      "text/plain": [
       "                          Campaign  Spent  Revenue\n",
       "0                      Summer Sale   5000    12500\n",
       "1                Holiday Promotion   7500    18750\n",
       "2          Back-to-School Campaign   6000    14000\n",
       "3                 Spring Clearance   4000    10000\n",
       "4               Black Friday Deals  10000    22500\n",
       "5               New Year's Special   9000    20000\n",
       "6             Valentine's Day Sale   4500    11000\n",
       "7           Mother's Day Promotion   5500    13750\n",
       "8                 Easter Discounts   6500    16000\n",
       "9              Cyber Monday Offers   8500    19000\n",
       "10               Christmas Bonanza  11000    25000\n",
       "11                  Halloween Sale   7000    18000\n",
       "12          Independence Day Deals   8000    19500\n",
       "13                Labor Day Offers   6000    15500\n",
       "14            Memorial Day Special   5000    13000\n",
       "15           End of Year Clearance   9500    21500\n",
       "16             Summer Fashion Sale   7500    19000\n",
       "17         Winter Wonderland Deals   8500    22000\n",
       "18          Spring Break Promotion   6000    16500\n",
       "19  International Women's Day Sale   4500    12000"
      ]
     },
     "execution_count": 16,
     "metadata": {},
     "output_type": "execute_result"
    }
   ],
   "source": [
    "df = pd.read_csv(\"companies.csv\")\n",
    "df"
   ]
  },
  {
   "cell_type": "markdown",
   "id": "3f805616",
   "metadata": {},
   "source": [
    "###### Calculate the ROI for each campaign\n",
    "\n",
    "\n"
   ]
  },
  {
   "cell_type": "code",
   "execution_count": 18,
   "id": "09edcd91",
   "metadata": {},
   "outputs": [
    {
     "data": {
      "text/plain": [
       "0     150.000000\n",
       "1     150.000000\n",
       "2     133.333333\n",
       "3     150.000000\n",
       "4     125.000000\n",
       "5     122.222222\n",
       "6     144.444444\n",
       "7     150.000000\n",
       "8     146.153846\n",
       "9     123.529412\n",
       "10    127.272727\n",
       "11    157.142857\n",
       "12    143.750000\n",
       "13    158.333333\n",
       "14    160.000000\n",
       "15    126.315789\n",
       "16    153.333333\n",
       "17    158.823529\n",
       "18    175.000000\n",
       "19    166.666667\n",
       "Name: ROI, dtype: float64"
      ]
     },
     "execution_count": 18,
     "metadata": {},
     "output_type": "execute_result"
    }
   ],
   "source": [
    "df['ROI'] = ((df['Revenue'] - df['Spent']) / df['Spent']) * 100\n",
    "df['ROI']\n"
   ]
  },
  {
   "cell_type": "markdown",
   "id": "b38e4fad",
   "metadata": {},
   "source": [
    "###### Calculate the average ROI for all campaigns\n",
    "\n"
   ]
  },
  {
   "cell_type": "code",
   "execution_count": 20,
   "id": "cd1db6cf",
   "metadata": {},
   "outputs": [
    {
     "data": {
      "text/plain": [
       "146.06607472764594"
      ]
     },
     "execution_count": 20,
     "metadata": {},
     "output_type": "execute_result"
    }
   ],
   "source": [
    "average_roi = df['ROI'].mean()\n",
    "\n",
    "average_roi"
   ]
  },
  {
   "cell_type": "markdown",
   "id": "67a2b26b",
   "metadata": {},
   "source": [
    "###### Identify the campaign with the highest ROI\n",
    "\n"
   ]
  },
  {
   "cell_type": "code",
   "execution_count": 22,
   "id": "b30875c3",
   "metadata": {},
   "outputs": [
    {
     "data": {
      "text/plain": [
       "Campaign    Spring Break Promotion\n",
       "Spent                         6000\n",
       "Revenue                      16500\n",
       "ROI                          175.0\n",
       "Name: 18, dtype: object"
      ]
     },
     "execution_count": 22,
     "metadata": {},
     "output_type": "execute_result"
    }
   ],
   "source": [
    "highest_roi_campaign = df.loc[df['ROI'].idxmax()]\n",
    "\n",
    "highest_roi_campaign"
   ]
  },
  {
   "cell_type": "markdown",
   "id": "fef85862",
   "metadata": {},
   "source": [
    "###### Visualize the ROI distribution (Optional)\n",
    "\n"
   ]
  },
  {
   "cell_type": "code",
   "execution_count": 23,
   "id": "405579a9",
   "metadata": {},
   "outputs": [],
   "source": [
    "import matplotlib.pyplot as plt\n",
    "\n"
   ]
  },
  {
   "cell_type": "code",
   "execution_count": 24,
   "id": "b076f1af",
   "metadata": {
    "scrolled": true
   },
   "outputs": [
    {
     "data": {
      "image/png": "[encoded data removed]",
      "text/plain": [
       "<Figure size 720x432 with 1 Axes>"
      ]
     },
     "metadata": {
      "needs_background": "light"
     },
     "output_type": "display_data"
    }
   ],
   "source": [
    "\n",
    "\n",
    "plt.figure(figsize=(10,6))\n",
    "plt.hist(df['ROI'], bins=10, color='skyblue', edgecolor='black', alpha=0.7)\n",
    "plt.title('ROI Distribution')\n",
    "plt.xlabel('ROI (%)')\n",
    "plt.ylabel('Frequency')\n",
    "plt.grid(True)\n",
    "plt.show()"
   ]
  },
  {
   "cell_type": "markdown",
   "id": "2a3d707a",
   "metadata": {},
   "source": [
    "###### Print results\n",
    "\n"
   ]
  },
  {
   "cell_type": "code",
   "execution_count": 25,
   "id": "bbec9234",
   "metadata": {},
   "outputs": [
    {
     "name": "stdout",
     "output_type": "stream",
     "text": [
      "Average ROI for all campaigns: 146.06607472764594\n",
      "Campaign with the highest ROI:\n",
      "Campaign    Spring Break Promotion\n",
      "Spent                         6000\n",
      "Revenue                      16500\n",
      "ROI                          175.0\n",
      "Name: 18, dtype: object\n"
     ]
    }
   ],
   "source": [
    "print(\"Average ROI for all campaigns:\", average_roi)\n",
    "print(\"Campaign with the highest ROI:\")\n",
    "print(highest_roi_campaign)"
   ]
  }
 ],
 "metadata": {
  "kernelspec": {
   "display_name": "Python 3 (ipykernel)",
   "language": "python",
   "name": "python3"
  },
  "language_info": {
   "codemirror_mode": {
    "name": "ipython",
    "version": 3
   },
   "file_extension": ".py",
   "mimetype": "text/x-python",
   "name": "python",
   "nbconvert_exporter": "python",
   "pygments_lexer": "ipython3",
   "version": "3.9.7"
  }
 },
 "nbformat": 4,
 "nbformat_minor": 5
}
